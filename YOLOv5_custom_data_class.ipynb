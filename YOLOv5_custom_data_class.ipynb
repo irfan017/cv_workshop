{
  "nbformat": 4,
  "nbformat_minor": 0,
  "metadata": {
    "colab": {
      "provenance": [],
      "collapsed_sections": []
    },
    "kernelspec": {
      "name": "python3",
      "display_name": "Python 3"
    },
    "accelerator": "GPU"
  },
  "cells": [
    {
      "cell_type": "markdown",
      "source": [
        "# Obtain training data "
      ],
      "metadata": {
        "id": "LWnEGsYicBhv"
      }
    },
    {
      "cell_type": "markdown",
      "source": [
        "Steps to Train Machine Learning model using Yolo V5 \n",
        "\n",
        "1. Obtain data. \n",
        "2. Make bounding boxes for data  - https://www.makesense.ai/ #label order is important\n",
        "3. Place labels for train and testing in one folder\n",
        "4. Place images for train and testing in another folder\n",
        "5. Zip them \n",
        "6. Drag and drop to upload to Google Colab\n",
        "7. Unzip folder of images"
      ],
      "metadata": {
        "id": "zLbLy99kJDKc"
      }
    },
    {
      "cell_type": "code",
      "source": [
        "####### Here is Step 7 ########\n",
        "!unzip -q pen.zip -d ."
      ],
      "metadata": {
        "id": "P_Vtoap5aFuM"
      },
      "execution_count": null,
      "outputs": []
    },
    {
      "cell_type": "markdown",
      "metadata": {
        "id": "7mGmQbAO5pQb"
      },
      "source": [
        "# Setup\n",
        "\n",
        "Clone repo, install dependencies and check PyTorch and GPU.\n",
        "\n",
        "1. Git clone repo \n",
        "2. Download a .yaml file \n",
        "3. Convert .yaml file to this (https://github.com/irfan017/cv_workshop/blob/08627f819f0c278e0b8bff6be85aed5b01c2dbb7/custom_data.yaml ) \n",
        "4. Upload the .yaml file into Google Colab\n",
        "5. Put .yaml doc in the same directory as other .yaml files\n"
      ]
    },
    {
      "cell_type": "code",
      "metadata": {
        "id": "wbvMlHd_QwMG"
      },
      "source": [
        "####### Here is Step 1 #######\n",
        "\n",
        "!git clone https://github.com/ultralytics/yolov5  # clone\n",
        "%cd yolov5\n",
        "%pip install -qr requirements.txt  # install\n",
        "\n",
        "import torch\n",
        "import utils\n",
        "display = utils.notebook_init()  # checks"
      ],
      "execution_count": null,
      "outputs": []
    },
    {
      "cell_type": "code",
      "source": [
        "pwd"
      ],
      "metadata": {
        "colab": {
          "base_uri": "https://localhost:8080/",
          "height": 36
        },
        "id": "TS9EBiFbTkn6",
        "outputId": "50fda860-0d85-42c3-fed5-4362daa41d8e"
      },
      "execution_count": null,
      "outputs": [
        {
          "output_type": "execute_result",
          "data": {
            "text/plain": [
              "'/content/yolov5/yolov5'"
            ],
            "application/vnd.google.colaboratory.intrinsic+json": {
              "type": "string"
            }
          },
          "metadata": {},
          "execution_count": 6
        }
      ]
    },
    {
      "cell_type": "markdown",
      "source": [
        "# Training\n",
        "\n",
        "1. Train the Yolo v5 model on the custom data \n",
        "2. Test the model. Model can be tested on video or image"
      ],
      "metadata": {
        "id": "ZLpR0dNMMi8a"
      }
    },
    {
      "cell_type": "code",
      "metadata": {
        "id": "1NcFxRcFdJ_O"
      },
      "source": [
        "# batch - number of images that will be run before weights are updated\n",
        "# epoch - number of times model run over whole dataset\n",
        "# cache - This command caches the entire dataset in the first epoch so it may be reused again instantly\n",
        "\n",
        "\n",
        "# Train YOLOv5s on custom data \n",
        "!python train.py --img 640 --batch 16 --epochs 50 --data custom_data.yaml --weights yolov5s.pt --cache"
      ],
      "execution_count": null,
      "outputs": []
    },
    {
      "cell_type": "markdown",
      "metadata": {
        "id": "-WPvRbS5Swl6"
      },
      "source": [
        "## Local Logging\n",
        "\n",
        "All results are logged by default to `runs/train`, with a new experiment directory created for each new training as `runs/train/exp2`, `runs/train/exp3`, etc. \n",
        "Training results are automatically logged to [Tensorboard](https://www.tensorflow.org/tensorboard) and [CSV](https://github.com/ultralytics/yolov5/pull/4148) as `results.csv`\n"
      ]
    },
    {
      "cell_type": "code",
      "source": [
        "# start Tensorboard \n",
        "# Lauch after you have started training \n",
        "# logs save in the folder runs \n",
        "# Tensorboard  (optional)\n",
        "%load_ext tensorboard\n",
        "%tensorboard --logdir runs/train"
      ],
      "metadata": {
        "id": "KM8uJwn4MAny"
      },
      "execution_count": null,
      "outputs": []
    },
    {
      "cell_type": "code",
      "source": [
        "# Visualize using graphs \n",
        "\n",
        "from utils.plots import plot_results \n",
        "plot_results('/content/yolov5/runs/train/exp/results.csv')  # plot 'results.csv' as 'results.png'\n",
        "# the .png is saved in the same folder as the results.csv\n",
        "display.Image(filename='runs/train/exp/results.png', width=600)"
      ],
      "metadata": {
        "id": "LwG0W5vHMEk9"
      },
      "execution_count": null,
      "outputs": []
    },
    {
      "cell_type": "markdown",
      "source": [
        "# Check Results of training "
      ],
      "metadata": {
        "id": "WXkpacg8ME6A"
      }
    },
    {
      "cell_type": "markdown",
      "source": [
        "# Testing "
      ],
      "metadata": {
        "id": "XhUmoe1UKTQa"
      }
    },
    {
      "cell_type": "code",
      "source": [
        "# copy this to another document and make them type\n",
        "# make them type \n",
        "!python detect.py --weights runs/train/exp/weights/best.pt --img 640 --conf 0.3 --source ##source of our image here "
      ],
      "metadata": {
        "id": "GcjmT87GKRdv"
      },
      "execution_count": null,
      "outputs": []
    },
    {
      "cell_type": "markdown",
      "source": [
        "\n",
        "\n",
        "# Saving model \n",
        "- You can save the model by copying the model weights \n",
        "- You can also use the previously trained model weights and retrain it with new data . \n"
      ],
      "metadata": {
        "id": "culNq0DEqwqw"
      }
    },
    {
      "cell_type": "code",
      "source": [
        "# Download the model weights  \n",
        "# runs/train/exp/weights/best.pt"
      ],
      "metadata": {
        "id": "p8V9fj4Yqwa6"
      },
      "execution_count": null,
      "outputs": []
    }
  ]
}